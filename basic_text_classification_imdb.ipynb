{
  "nbformat": 4,
  "nbformat_minor": 0,
  "metadata": {
    "colab": {
      "name": "basic_text_classification.ipynb",
      "provenance": [],
      "authorship_tag": "ABX9TyNXPE9f+uw0oxahxpeeuOvL",
      "include_colab_link": true
    },
    "kernelspec": {
      "name": "python3",
      "display_name": "Python 3"
    },
    "language_info": {
      "name": "python"
    }
  },
  "cells": [
    {
      "cell_type": "markdown",
      "metadata": {
        "id": "view-in-github",
        "colab_type": "text"
      },
      "source": [
        "<a href=\"https://colab.research.google.com/github/ahlraf/ML-projects/blob/main/basic_text_classification_imdb.ipynb\" target=\"_parent\"><img src=\"https://colab.research.google.com/assets/colab-badge.svg\" alt=\"Open In Colab\"/></a>"
      ]
    },
    {
      "cell_type": "code",
      "metadata": {
        "id": "cwSqnn1uoeWy"
      },
      "source": [
        "import matplotlib.pyplot as plt\n",
        "import os\n",
        "import re\n",
        "import shutil\n",
        "import string\n",
        "import tensorflow as tf\n",
        "\n",
        "from tensorflow.keras import layers\n",
        "from tensorflow.keras import losses\n",
        "from tensorflow.keras import preprocessing\n",
        "from tensorflow.keras.layers.experimental.preprocessing import TextVectorization"
      ],
      "execution_count": 1,
      "outputs": []
    },
    {
      "cell_type": "code",
      "metadata": {
        "colab": {
          "base_uri": "https://localhost:8080/"
        },
        "id": "SyRjHs8po10t",
        "outputId": "31c016e0-6601-42ca-fc19-1bc86e0ba044"
      },
      "source": [
        "print(tf.__version__)"
      ],
      "execution_count": 3,
      "outputs": [
        {
          "output_type": "stream",
          "text": [
            "2.4.1\n"
          ],
          "name": "stdout"
        }
      ]
    },
    {
      "cell_type": "markdown",
      "metadata": {
        "id": "vKeDavfTpDi0"
      },
      "source": [
        "**Sentiment analysis**<br>\n",
        "Trains a sentiment analysis model to classify movie reviews as +ve or -ve, based on text of review - binary classification. Uses the IMDb. Split int 25,000 reviews for training and 25,000 reviews for testing (balanced sets)."
      ]
    },
    {
      "cell_type": "markdown",
      "metadata": {
        "id": "-u-DuCIZppQN"
      },
      "source": [
        "Download and explore the IMDb dataset:"
      ]
    },
    {
      "cell_type": "code",
      "metadata": {
        "id": "Lx2nuLcLpnVD"
      },
      "source": [
        "url = \"https://ai.stanford.edu/~amaas/data/sentiment/aclImdb_v1.tar.gz\"\n",
        "data = tf.keras.utils.get_file(\"aclImdb_v1\", url, untar=True, cache_dir='.', cache_subdir='')\n",
        "data_dir = os.path.join(os.path.dirname(data), 'aclImdb')"
      ],
      "execution_count": 13,
      "outputs": []
    },
    {
      "cell_type": "code",
      "metadata": {
        "colab": {
          "base_uri": "https://localhost:8080/"
        },
        "id": "-fTwq1nzpfNc",
        "outputId": "e0ac68fc-395b-4ead-9f7c-e94da8e926dd"
      },
      "source": [
        "os.listdir(data_dir)"
      ],
      "execution_count": 14,
      "outputs": [
        {
          "output_type": "execute_result",
          "data": {
            "text/plain": [
              "['imdbEr.txt', 'README', 'train', 'imdb.vocab', 'test']"
            ]
          },
          "metadata": {
            "tags": []
          },
          "execution_count": 14
        }
      ]
    },
    {
      "cell_type": "code",
      "metadata": {
        "colab": {
          "base_uri": "https://localhost:8080/"
        },
        "id": "_-BcpugDrU73",
        "outputId": "9a6464bb-bd73-42b8-c520-a9fe7ee2ab19"
      },
      "source": [
        "train_dir = os.path.join(data_dir,'train')\n",
        "os.listdir(train_dir)"
      ],
      "execution_count": 15,
      "outputs": [
        {
          "output_type": "execute_result",
          "data": {
            "text/plain": [
              "['neg',\n",
              " 'urls_pos.txt',\n",
              " 'urls_neg.txt',\n",
              " 'unsupBow.feat',\n",
              " 'labeledBow.feat',\n",
              " 'urls_unsup.txt',\n",
              " 'unsup',\n",
              " 'pos']"
            ]
          },
          "metadata": {
            "tags": []
          },
          "execution_count": 15
        }
      ]
    },
    {
      "cell_type": "code",
      "metadata": {
        "colab": {
          "base_uri": "https://localhost:8080/"
        },
        "id": "tRhY83HXrvVR",
        "outputId": "dfd1840e-2dae-49b9-89d3-f29f7f44fe9d"
      },
      "source": [
        "sample_file = os.path.join(train_dir, 'pos/1181_9.txt')\n",
        "with open(sample_file) as f:\n",
        "  print(f.read())"
      ],
      "execution_count": 16,
      "outputs": [
        {
          "output_type": "stream",
          "text": [
            "Rachel Griffiths writes and directs this award winning short film. A heartwarming story about coping with grief and cherishing the memory of those we've loved and lost. Although, only 15 minutes long, Griffiths manages to capture so much emotion and truth onto film in the short space of time. Bud Tingwell gives a touching performance as Will, a widower struggling to cope with his wife's death. Will is confronted by the harsh reality of loneliness and helplessness as he proceeds to take care of Ruth's pet cow, Tulip. The film displays the grief and responsibility one feels for those they have loved and lost. Good cinematography, great direction, and superbly acted. It will bring tears to all those who have lost a loved one, and survived.\n"
          ],
          "name": "stdout"
        }
      ]
    },
    {
      "cell_type": "markdown",
      "metadata": {
        "id": "cGfakjOVsqac"
      },
      "source": [
        "**Load the dataset**: using text_dataset_from_directory utility. To prepare dataset for binary classification, need 2 folders on disk: class_a and class_b --> +ve and -ve reviews. <br>Removing additional folders before using this utility:"
      ]
    },
    {
      "cell_type": "code",
      "metadata": {
        "id": "dXLz90K2sDLO"
      },
      "source": [
        "remove_dir = os.path.join(train_dir, 'unsup')\n",
        "shutil.rmtree(remove_dir)"
      ],
      "execution_count": 17,
      "outputs": []
    },
    {
      "cell_type": "markdown",
      "metadata": {
        "id": "90k4OiIttfnc"
      },
      "source": [
        "Use text_dataset_from_directory utility to create labeled tf.data.Dataset .<br>Create 80:20 split of training data using validation_split:"
      ]
    },
    {
      "cell_type": "code",
      "metadata": {
        "colab": {
          "base_uri": "https://localhost:8080/"
        },
        "id": "TDwr3AQKthoN",
        "outputId": "9deb27c7-766d-4901-b47d-72abac432ca1"
      },
      "source": [
        "batch_size = 32\n",
        "seed = 42\n",
        "raw_train_ds = tf.keras.preprocessing.text_dataset_from_directory(\n",
        "    'aclImdb/train', \n",
        "    batch_size=batch_size, \n",
        "    validation_split=0.2, \n",
        "    subset='training', \n",
        "    seed=seed)"
      ],
      "execution_count": 18,
      "outputs": [
        {
          "output_type": "stream",
          "text": [
            "Found 25000 files belonging to 2 classes.\n",
            "Using 20000 files for training.\n"
          ],
          "name": "stdout"
        }
      ]
    },
    {
      "cell_type": "code",
      "metadata": {
        "colab": {
          "base_uri": "https://localhost:8080/"
        },
        "id": "HWV3_fgKusFX",
        "outputId": "93d0506a-2aed-4634-aa12-4757f363729c"
      },
      "source": [
        "for text_batch, label_batch in raw_train_ds.take(1):\n",
        "  for i in range(3):\n",
        "    print('Review', text_batch.numpy()[i])\n",
        "    print('Label', label_batch.numpy()[i])"
      ],
      "execution_count": 19,
      "outputs": [
        {
          "output_type": "stream",
          "text": [
            "Review b'\"Pandemonium\" is a horror movie spoof that comes off more stupid than funny. Believe me when I tell you, I love comedies. Especially comedy spoofs. \"Airplane\", \"The Naked Gun\" trilogy, \"Blazing Saddles\", \"High Anxiety\", and \"Spaceballs\" are some of my favorite comedies that spoof a particular genre. \"Pandemonium\" is not up there with those films. Most of the scenes in this movie had me sitting there in stunned silence because the movie wasn\\'t all that funny. There are a few laughs in the film, but when you watch a comedy, you expect to laugh a lot more than a few times and that\\'s all this film has going for it. Geez, \"Scream\" had more laughs than this film and that was more of a horror film. How bizarre is that?<br /><br />*1/2 (out of four)'\n",
            "Label 0\n",
            "Review b\"David Mamet is a very interesting and a very un-equal director. His first movie 'House of Games' was the one I liked best, and it set a series of films with characters whose perspective of life changes as they get into complicated situations, and so does the perspective of the viewer.<br /><br />So is 'Homicide' which from the title tries to set the mind of the viewer to the usual crime drama. The principal characters are two cops, one Jewish and one Irish who deal with a racially charged area. The murder of an old Jewish shop owner who proves to be an ancient veteran of the Israeli Independence war triggers the Jewish identity in the mind and heart of the Jewish detective.<br /><br />This is were the flaws of the film are the more obvious. The process of awakening is theatrical and hard to believe, the group of Jewish militants is operatic, and the way the detective eventually walks to the final violent confrontation is pathetic. The end of the film itself is Mamet-like smart, but disappoints from a human emotional perspective.<br /><br />Joe Mantegna and William Macy give strong performances, but the flaws of the story are too evident to be easily compensated.\"\n",
            "Label 0\n",
            "Review b'Great documentary about the lives of NY firefighters during the worst terrorist attack of all time.. That reason alone is why this should be a must see collectors item.. What shocked me was not only the attacks, but the\"High Fat Diet\" and physical appearance of some of these firefighters. I think a lot of Doctors would agree with me that,in the physical shape they were in, some of these firefighters would NOT of made it to the 79th floor carrying over 60 lbs of gear. Having said that i now have a greater respect for firefighters and i realize becoming a firefighter is a life altering job. The French have a history of making great documentary\\'s and that is what this is, a Great Documentary.....'\n",
            "Label 1\n"
          ],
          "name": "stdout"
        }
      ]
    },
    {
      "cell_type": "code",
      "metadata": {
        "colab": {
          "base_uri": "https://localhost:8080/"
        },
        "id": "NYwedI7UvgGN",
        "outputId": "20e873fd-b0c4-48f0-eda3-2792ad2de73f"
      },
      "source": [
        "print('Label 0 corresponds to', raw_train_ds.class_names[0])\n",
        "print('Label 1 corresponds to', raw_train_ds.class_names[1])"
      ],
      "execution_count": 20,
      "outputs": [
        {
          "output_type": "stream",
          "text": [
            "Label 0 corresponds to neg\n",
            "Label 1 corresponds to pos\n"
          ],
          "name": "stdout"
        }
      ]
    },
    {
      "cell_type": "markdown",
      "metadata": {
        "id": "Q1ttbJsov4PH"
      },
      "source": [
        "Validation set:"
      ]
    },
    {
      "cell_type": "code",
      "metadata": {
        "colab": {
          "base_uri": "https://localhost:8080/"
        },
        "id": "OUPMfvvOv3yj",
        "outputId": "36334d04-7f6f-4b97-874c-4358727818a2"
      },
      "source": [
        "raw_val_ds = tf.keras.preprocessing.text_dataset_from_directory(\n",
        "    'aclImdb/train',\n",
        "    batch_size=batch_size,\n",
        "    validation_split=0.2,\n",
        "    subset='validation',\n",
        "    seed=seed\n",
        ")"
      ],
      "execution_count": 21,
      "outputs": [
        {
          "output_type": "stream",
          "text": [
            "Found 25000 files belonging to 2 classes.\n",
            "Using 5000 files for validation.\n"
          ],
          "name": "stdout"
        }
      ]
    },
    {
      "cell_type": "markdown",
      "metadata": {
        "id": "6dpM4eLAwYCO"
      },
      "source": [
        "Test set:"
      ]
    },
    {
      "cell_type": "code",
      "metadata": {
        "colab": {
          "base_uri": "https://localhost:8080/"
        },
        "id": "OzzXPYpWv3oE",
        "outputId": "264e1955-7aed-4f3b-d1f7-cd1959e42482"
      },
      "source": [
        "raw_test_ds = tf.keras.preprocessing.text_dataset_from_directory(\n",
        "    'aclImdb/test',\n",
        "    batch_size=batch_size\n",
        ")"
      ],
      "execution_count": 22,
      "outputs": [
        {
          "output_type": "stream",
          "text": [
            "Found 25000 files belonging to 2 classes.\n"
          ],
          "name": "stdout"
        }
      ]
    },
    {
      "cell_type": "markdown",
      "metadata": {
        "id": "8y_jVwCCueS4"
      },
      "source": [
        "### Prepare dataset for training\n",
        "Standardize, tokenize, vectorize the data: using preprocessing.TextVectorization layer.<br><br>\n",
        "Standardization = preprocessing the text (remove punctuation/ HTML elements - simplify dataset).<br>\n",
        "Tokenization = splitting strings into tokens<br>\n",
        "Vectorization = converting tokens into numbers so they can be fed into a neural network.<br><br>\n",
        "HTML tags aren't removed by default standardizer in TextVectorization layer - write custom standardization function to remove the HTML."
      ]
    },
    {
      "cell_type": "markdown",
      "metadata": {
        "id": "kSMv1Ryu0DOK"
      },
      "source": [
        "To prevent train/test skew, preprocess data identically at train & test time - include TextVectorization layer inside model."
      ]
    },
    {
      "cell_type": "code",
      "metadata": {
        "id": "7U8ASfqWuWFF"
      },
      "source": [
        "def custom_standardization(input_data):\n",
        "  lowercase = tf.strings.lower(input_data)\n",
        "  stripped_html = tf.strings.regex_replace(lowercase, '<br />', ' ')\n",
        "  return tf.strings.regex_replace(stripped_html, '[%s]' % re.escape(string.punctuation), '')"
      ],
      "execution_count": 24,
      "outputs": []
    },
    {
      "cell_type": "markdown",
      "metadata": {
        "id": "as69UjxAzRDb"
      },
      "source": [
        "TextVectorization layer: use to standardize, tokenize, vectorize. Set output_mode to int to create unique integer indices for each token.\n",
        "<br>\n",
        "Using default split function + custom standardization function + define constants (explicit max sequence_length - layer pads/ truncates sequence accordingly)."
      ]
    },
    {
      "cell_type": "code",
      "metadata": {
        "id": "0MTTS47_zIKT"
      },
      "source": [
        "max_features = 10000\n",
        "sequence_length = 250\n",
        "\n",
        "vectorize_layer = TextVectorization(\n",
        "    standardize=custom_standardization,\n",
        "    max_tokens=max_features,\n",
        "    output_mode='int',\n",
        "    output_sequence_length=sequence_length\n",
        ")"
      ],
      "execution_count": 25,
      "outputs": []
    },
    {
      "cell_type": "markdown",
      "metadata": {
        "id": "zW9ageLL0oUr"
      },
      "source": [
        "Call adapt to fit the state of the preprocessing layer to the dataset - causes model to build an index of strings to integers.<br>\n",
        "\n",
        "Use only training data when calling adapt (using test set leaks information)."
      ]
    },
    {
      "cell_type": "code",
      "metadata": {
        "id": "479tlP0m0Aur"
      },
      "source": [
        "# make text-only dataset (without labels), then call adapt\n",
        "train_text = raw_train_ds.map(lambda x, y:x)\n",
        "vectorize_layer.adapt(train_text)"
      ],
      "execution_count": 26,
      "outputs": []
    },
    {
      "cell_type": "code",
      "metadata": {
        "id": "O-dpUB7Q1nfW"
      },
      "source": [
        "def vectorize_text(text, label):\n",
        "  text = tf.expand_dims(text, -1)\n",
        "  return vectorize_layer(text), label"
      ],
      "execution_count": 27,
      "outputs": []
    },
    {
      "cell_type": "code",
      "metadata": {
        "colab": {
          "base_uri": "https://localhost:8080/"
        },
        "id": "e1N02u881zZv",
        "outputId": "a3f91fba-369a-4653-8a39-66884905a0c2"
      },
      "source": [
        "# retrieve batch of 32 reviews and labels from the dataset\n",
        "text_batch, label_batch = next(iter(raw_train_ds))\n",
        "first_review, first_label = text_batch[0], label_batch[0] \n",
        "print(\"Review\", first_review)\n",
        "print(\"Label\", raw_train_ds.class_names[first_label])\n",
        "print(\"Vectorized review\", vectorize_text(first_review, first_label))"
      ],
      "execution_count": 28,
      "outputs": [
        {
          "output_type": "stream",
          "text": [
            "Review tf.Tensor(b'Silent Night, Deadly Night 5 is the very last of the series, and like part 4, it\\'s unrelated to the first three except by title and the fact that it\\'s a Christmas-themed horror flick.<br /><br />Except to the oblivious, there\\'s some obvious things going on here...Mickey Rooney plays a toymaker named Joe Petto and his creepy son\\'s name is Pino. Ring a bell, anyone? Now, a little boy named Derek heard a knock at the door one evening, and opened it to find a present on the doorstep for him. Even though it said \"don\\'t open till Christmas\", he begins to open it anyway but is stopped by his dad, who scolds him and sends him to bed, and opens the gift himself. Inside is a little red ball that sprouts Santa arms and a head, and proceeds to kill dad. Oops, maybe he should have left well-enough alone. Of course Derek is then traumatized by the incident since he watched it from the stairs, but he doesn\\'t grow up to be some killer Santa, he just stops talking.<br /><br />There\\'s a mysterious stranger lurking around, who seems very interested in the toys that Joe Petto makes. We even see him buying a bunch when Derek\\'s mom takes him to the store to find a gift for him to bring him out of his trauma. And what exactly is this guy doing? Well, we\\'re not sure but he does seem to be taking these toys apart to see what makes them tick. He does keep his landlord from evicting him by promising him to pay him in cash the next day and presents him with a \"Larry the Larvae\" toy for his kid, but of course \"Larry\" is not a good toy and gets out of the box in the car and of course, well, things aren\\'t pretty.<br /><br />Anyway, eventually what\\'s going on with Joe Petto and Pino is of course revealed, and as with the old story, Pino is not a \"real boy\". Pino is probably even more agitated and naughty because he suffers from \"Kenitalia\" (a smooth plastic crotch) so that could account for his evil ways. And the identity of the lurking stranger is revealed too, and there\\'s even kind of a happy ending of sorts. Whee.<br /><br />A step up from part 4, but not much of one. Again, Brian Yuzna is involved, and Screaming Mad George, so some decent special effects, but not enough to make this great. A few leftovers from part 4 are hanging around too, like Clint Howard and Neith Hunter, but that doesn\\'t really make any difference. Anyway, I now have seeing the whole series out of my system. Now if I could get some of it out of my brain. 4 out of 5.', shape=(), dtype=string)\n",
            "Label neg\n",
            "Vectorized review (<tf.Tensor: shape=(1, 250), dtype=int64, numpy=\n",
            "array([[1287,  313, 2380,  313,  661,    7,    2,   52,  229,    5,    2,\n",
            "         200,    3,   38,  170,  669,   29, 5492,    6,    2,   83,  297,\n",
            "         549,   32,  410,    3,    2,  186,   12,   29,    4,    1,  191,\n",
            "         510,  549,    6,    2, 8229,  212,   46,  576,  175,  168,   20,\n",
            "           1, 5361,  290,    4,    1,  761,  969,    1,    3,   24,  935,\n",
            "        2271,  393,    7,    1, 1675,    4, 3747,  250,  148,    4,  112,\n",
            "         436,  761, 3529,  548,    4, 3633,   31,    2, 1331,   28, 2096,\n",
            "           3, 2912,    9,    6,  163,    4, 1006,   20,    2,    1,   15,\n",
            "          85,   53,  147,    9,  292,   89,  959, 2314,  984,   27,  762,\n",
            "           6,  959,    9,  564,   18,    7, 2140,   32,   24, 1254,   36,\n",
            "           1,   85,    3, 3298,   85,    6, 1410,    3, 1936,    2, 3408,\n",
            "         301,  965,    7,    4,  112,  740, 1977,   12,    1, 2014, 2772,\n",
            "           3,    4,  428,    3, 5177,    6,  512, 1254,    1,  278,   27,\n",
            "         139,   25,  308,    1,  579,    5,  259, 3529,    7,   92, 8981,\n",
            "          32,    2, 3842,  230,   27,  289,    9,   35,    2, 5712,   18,\n",
            "          27,  144, 2166,   56,    6,   26,   46,  466, 2014,   27,   40,\n",
            "        2745,  657,  212,    4, 1376, 3002, 7080,  183,   36,  180,   52,\n",
            "         920,    8,    2, 4028,   12,  969,    1,  158,   71,   53,   67,\n",
            "          85, 2754,    4,  734,   51,    1, 1611,  294,   85,    6,    2,\n",
            "        1164,    6,  163,    4, 3408,   15,   85,    6,  717,   85,   44,\n",
            "           5,   24, 7158,    3,   48,  604,    7,   11,  225,  384,   73,\n",
            "          65,   21,  242,   18,   27,  120,  295,    6,   26,  667,  129,\n",
            "        4028,  948,    6,   67,   48,  158,   93,    1]])>, <tf.Tensor: shape=(), dtype=int32, numpy=0>)\n"
          ],
          "name": "stdout"
        }
      ]
    },
    {
      "cell_type": "markdown",
      "metadata": {
        "id": "1Xrk3HqD3R1x"
      },
      "source": [
        "Each token has been replaced by an integer. Can look up the token each string corresponds to by calling .get_vocabulary() on the layer."
      ]
    },
    {
      "cell_type": "code",
      "metadata": {
        "colab": {
          "base_uri": "https://localhost:8080/"
        },
        "id": "SFCGjtKj3Fxv",
        "outputId": "40cf3965-ba75-4f34-8612-19851e90c241"
      },
      "source": [
        "print(\"1287 -->\", vectorize_layer.get_vocabulary()[1287])\n",
        "print(\"313 -->\", vectorize_layer.get_vocabulary()[313])\n",
        "print(\"Vocabulary size: {}\".format(len(vectorize_layer.get_vocabulary())))"
      ],
      "execution_count": 29,
      "outputs": [
        {
          "output_type": "stream",
          "text": [
            "1287 --> silent\n",
            "313 --> night\n",
            "Vocabulary size: 10000\n"
          ],
          "name": "stdout"
        }
      ]
    },
    {
      "cell_type": "markdown",
      "metadata": {
        "id": "xUwhkqJO324V"
      },
      "source": [
        "Apply TextVectorization layer to train, validation, test dataset:"
      ]
    },
    {
      "cell_type": "code",
      "metadata": {
        "id": "w-oBcmbz3zqD"
      },
      "source": [
        "train_ds = raw_train_ds.map(vectorize_text)\n",
        "val_ds = raw_val_ds.map(vectorize_text)\n",
        "test_ds = raw_test_ds.map(vectorize_text)"
      ],
      "execution_count": 30,
      "outputs": []
    },
    {
      "cell_type": "markdown",
      "metadata": {
        "id": "lGtvDVTk4Mu5"
      },
      "source": [
        "### Configuring dataset for performance\n",
        ".cache() --> keeps data in memory after it's loaded off disk; this ensures the dataset doesn't become a bottleneck while training. If dataset too large to fit into memory, this creates a permanent on-disk cache - more efficient that many small files.<br>\n",
        ".prefetch() --> overlaps data preprocessing and model execution while training."
      ]
    },
    {
      "cell_type": "code",
      "metadata": {
        "id": "WiABL2uo4KBp"
      },
      "source": [
        "AUTOTUNE = tf.data.AUTOTUNE\n",
        "\n",
        "train_ds = train_ds.cache().prefetch(buffer_size=AUTOTUNE)\n",
        "val_ds = val_ds.cache().prefetch(buffer_size=AUTOTUNE)\n",
        "test_ds = test_ds.cache().prefetch(buffer_size=AUTOTUNE)"
      ],
      "execution_count": 31,
      "outputs": []
    },
    {
      "cell_type": "markdown",
      "metadata": {
        "id": "wii3023f5MdO"
      },
      "source": [
        "### Create model"
      ]
    },
    {
      "cell_type": "code",
      "metadata": {
        "id": "sAahx_k95Lag"
      },
      "source": [
        "embedding_dim = 16"
      ],
      "execution_count": 32,
      "outputs": []
    },
    {
      "cell_type": "code",
      "metadata": {
        "colab": {
          "base_uri": "https://localhost:8080/"
        },
        "id": "SzEsZTec5SbE",
        "outputId": "7861f3ac-114f-4b14-b72c-888edb5803e8"
      },
      "source": [
        "model = tf.keras.Sequential([\n",
        "  layers.Embedding(max_features+1, embedding_dim),\n",
        "  layers.Dropout(0.2),\n",
        "  layers.GlobalAveragePooling1D(),\n",
        "  layers.Dropout(0.2),\n",
        "  layers.Dense(1)\n",
        "])\n",
        "\n",
        "model.summary()"
      ],
      "execution_count": 33,
      "outputs": [
        {
          "output_type": "stream",
          "text": [
            "Model: \"sequential\"\n",
            "_________________________________________________________________\n",
            "Layer (type)                 Output Shape              Param #   \n",
            "=================================================================\n",
            "embedding (Embedding)        (None, None, 16)          160016    \n",
            "_________________________________________________________________\n",
            "dropout (Dropout)            (None, None, 16)          0         \n",
            "_________________________________________________________________\n",
            "global_average_pooling1d (Gl (None, 16)                0         \n",
            "_________________________________________________________________\n",
            "dropout_1 (Dropout)          (None, 16)                0         \n",
            "_________________________________________________________________\n",
            "dense (Dense)                (None, 1)                 17        \n",
            "=================================================================\n",
            "Total params: 160,033\n",
            "Trainable params: 160,033\n",
            "Non-trainable params: 0\n",
            "_________________________________________________________________\n"
          ],
          "name": "stdout"
        }
      ]
    },
    {
      "cell_type": "markdown",
      "metadata": {
        "id": "SvX6ZXO75yVT"
      },
      "source": [
        "Layers stacked sequentially to build classifier:\n",
        "1. Embedding layer: takes integer encoded reviews and looks up embedding vector for each word-index. Vectors learned at model trains, add dimension to output array. Resulting dimensions = (batch, sequence, embedding).\n",
        "2. GlobalAveragePooling1D layer: returns fixed length output vector for each example by averaging over sequence dimension - allows model to handle input of variable length.\n",
        "3. Fixed-length output vector piped through fully-connected (Dense) layer with 16 hidden units.\n",
        "4. Last layer densely connected with single output node."
      ]
    },
    {
      "cell_type": "markdown",
      "metadata": {
        "id": "6dCmuhdF6pkZ"
      },
      "source": [
        "### Loss function and optimizer\n",
        "Binary classification problem, model outputs probability (single unit layer with sigmoid activation) - losses.BinaryCrossentropy loss function + Adam optimizer."
      ]
    },
    {
      "cell_type": "code",
      "metadata": {
        "id": "wk0lGbGL5riP"
      },
      "source": [
        "model.compile(loss=losses.BinaryCrossentropy(from_logits=True),\n",
        "              optimizer='adam',\n",
        "              metrics=tf.metrics.BinaryAccuracy(threshold=0.0))\n",
        "#from_logits=True ==> values of loss obtained by the model are not normalized"
      ],
      "execution_count": 34,
      "outputs": []
    },
    {
      "cell_type": "markdown",
      "metadata": {
        "id": "fw7jsVUD7bxp"
      },
      "source": [
        "### Train model"
      ]
    },
    {
      "cell_type": "code",
      "metadata": {
        "colab": {
          "base_uri": "https://localhost:8080/"
        },
        "id": "cbAb8MWP7ZaU",
        "outputId": "a0ec1795-7a73-44d4-c813-a3fb087d9c1c"
      },
      "source": [
        "epochs = 10\n",
        "history = model.fit(\n",
        "    train_ds,\n",
        "    validation_data=val_ds,\n",
        "    epochs=epochs\n",
        ")"
      ],
      "execution_count": 36,
      "outputs": [
        {
          "output_type": "stream",
          "text": [
            "Epoch 1/10\n",
            "625/625 [==============================] - 4s 6ms/step - loss: 0.2190 - binary_accuracy: 0.9212 - val_loss: 0.2884 - val_binary_accuracy: 0.8804\n",
            "Epoch 2/10\n",
            "625/625 [==============================] - 4s 6ms/step - loss: 0.2081 - binary_accuracy: 0.9255 - val_loss: 0.2867 - val_binary_accuracy: 0.8818\n",
            "Epoch 3/10\n",
            "625/625 [==============================] - 4s 6ms/step - loss: 0.1975 - binary_accuracy: 0.9295 - val_loss: 0.2860 - val_binary_accuracy: 0.8828\n",
            "Epoch 4/10\n",
            "625/625 [==============================] - 4s 7ms/step - loss: 0.1867 - binary_accuracy: 0.9353 - val_loss: 0.2861 - val_binary_accuracy: 0.8822\n",
            "Epoch 5/10\n",
            "625/625 [==============================] - 4s 7ms/step - loss: 0.1786 - binary_accuracy: 0.9383 - val_loss: 0.2867 - val_binary_accuracy: 0.8838\n",
            "Epoch 6/10\n",
            "625/625 [==============================] - 4s 7ms/step - loss: 0.1691 - binary_accuracy: 0.9430 - val_loss: 0.2884 - val_binary_accuracy: 0.8840\n",
            "Epoch 7/10\n",
            "625/625 [==============================] - 4s 7ms/step - loss: 0.1620 - binary_accuracy: 0.9445 - val_loss: 0.2902 - val_binary_accuracy: 0.8838\n",
            "Epoch 8/10\n",
            "625/625 [==============================] - 4s 7ms/step - loss: 0.1554 - binary_accuracy: 0.9481 - val_loss: 0.2928 - val_binary_accuracy: 0.8836\n",
            "Epoch 9/10\n",
            "625/625 [==============================] - 4s 7ms/step - loss: 0.1482 - binary_accuracy: 0.9522 - val_loss: 0.2957 - val_binary_accuracy: 0.8828\n",
            "Epoch 10/10\n",
            "625/625 [==============================] - 4s 7ms/step - loss: 0.1417 - binary_accuracy: 0.9541 - val_loss: 0.2996 - val_binary_accuracy: 0.8812\n"
          ],
          "name": "stdout"
        }
      ]
    },
    {
      "cell_type": "markdown",
      "metadata": {
        "id": "QpWuESECJx6M"
      },
      "source": [
        "### Evaluate model\n"
      ]
    },
    {
      "cell_type": "code",
      "metadata": {
        "colab": {
          "base_uri": "https://localhost:8080/"
        },
        "id": "2dzZ0mgW7knf",
        "outputId": "60d5555e-224e-475e-c802-daadda268277"
      },
      "source": [
        "loss, accuracy = model.evaluate(test_ds)\n",
        "\n",
        "print(\"Loss: \", loss)\n",
        "print(\"Accuracy: \", accuracy)"
      ],
      "execution_count": 37,
      "outputs": [
        {
          "output_type": "stream",
          "text": [
            "782/782 [==============================] - 10s 12ms/step - loss: 0.3343 - binary_accuracy: 0.8674\n",
            "Loss:  0.33432722091674805\n",
            "Accuracy:  0.8674399852752686\n"
          ],
          "name": "stdout"
        }
      ]
    },
    {
      "cell_type": "markdown",
      "metadata": {
        "id": "vHn9RkGtKs1D"
      },
      "source": [
        "### Plot of accuracy and loss over time\n",
        "model.fit(): return History object that contains dictionary with everything that during training"
      ]
    },
    {
      "cell_type": "code",
      "metadata": {
        "id": "9vq1CuNAKiIK",
        "outputId": "20facc5a-262a-4519-9415-d377a72b4ef2",
        "colab": {
          "base_uri": "https://localhost:8080/"
        }
      },
      "source": [
        "history_dict = history.history\n",
        "history_dict.keys()"
      ],
      "execution_count": 38,
      "outputs": [
        {
          "output_type": "execute_result",
          "data": {
            "text/plain": [
              "dict_keys(['loss', 'binary_accuracy', 'val_loss', 'val_binary_accuracy'])"
            ]
          },
          "metadata": {
            "tags": []
          },
          "execution_count": 38
        }
      ]
    },
    {
      "cell_type": "code",
      "metadata": {
        "id": "B6siUg80Lmee",
        "outputId": "4e44512c-d538-402d-e151-7f647d50ab60",
        "colab": {
          "base_uri": "https://localhost:8080/",
          "height": 295
        }
      },
      "source": [
        "acc = history_dict['binary_accuracy']\n",
        "val_acc = history_dict['val_binary_accuracy']\n",
        "loss = history_dict['loss']\n",
        "val_loss = history_dict['val_loss']\n",
        "\n",
        "epochs = range(1, len(acc)+1)\n",
        "\n",
        "plt.plot(epochs, loss, 'bo', label='Training loss')\n",
        "plt.plot(epochs, val_loss, 'b', label='Validation loss')\n",
        "plt.title('Training and validation loss')\n",
        "plt.xlabel('Epochs')\n",
        "plt.ylabel('Loss')\n",
        "plt.legend()\n",
        "\n",
        "plt.show()"
      ],
      "execution_count": 39,
      "outputs": [
        {
          "output_type": "display_data",
          "data": {
            "image/png": "[encoded data removed]",
            "text/plain": [
              "<Figure size 432x288 with 1 Axes>"
            ]
          },
          "metadata": {
            "tags": [],
            "needs_background": "light"
          }
        }
      ]
    },
    {
      "cell_type": "code",
      "metadata": {
        "id": "6l399S-xMRqg",
        "outputId": "a6bb9cf4-68f9-419b-d79e-aaefcf46b6d5",
        "colab": {
          "base_uri": "https://localhost:8080/",
          "height": 295
        }
      },
      "source": [
        "plt.plot(epochs, acc, 'bo', label='Training accuracy')\n",
        "plt.plot(epochs, val_acc, 'b', label='Validation accuracy')\n",
        "plt.title('Training and validation accuracy')\n",
        "plt.xlabel('Epochs')\n",
        "plt.ylabel('Accuracy')\n",
        "plt.legend(loc='lower right')\n",
        "\n",
        "plt.show()"
      ],
      "execution_count": 40,
      "outputs": [
        {
          "output_type": "display_data",
          "data": {
            "image/png": "[encoded data removed]",
            "text/plain": [
              "<Figure size 432x288 with 1 Axes>"
            ]
          },
          "metadata": {
            "tags": [],
            "needs_background": "light"
          }
        }
      ]
    },
    {
      "cell_type": "markdown",
      "metadata": {
        "id": "MG3GctqYNIV1"
      },
      "source": [
        "Training accuracy increases, training loss decreases ==> expected, using gradient descent optimization.\n",
        "<br>\n",
        "Validation loss and accuracy seem to peak before training accuracy --> example of overfitting: model performs better on training data than on unseen data. Model over-optimizes and learns representations specific to training data that do not generalize.\n",
        "\n",
        "Prevent overfitting by stopping training when validation accuracy is no longer increasing. Use tf.keras.callbacks.EarlyStopping."
      ]
    },
    {
      "cell_type": "markdown",
      "metadata": {
        "id": "JDfG078fOcHr"
      },
      "source": [
        "### Export model\n",
        "To make model capable of processing raw strings: include TextVectorization layer inside the model. Create a new model using weights trained:"
      ]
    },
    {
      "cell_type": "code",
      "metadata": {
        "id": "lCrulu5LNAOe",
        "outputId": "9b45703c-7498-419c-cf5e-0ca52c41cdcf",
        "colab": {
          "base_uri": "https://localhost:8080/"
        }
      },
      "source": [
        "export_model = tf.keras.Sequential([\n",
        "  vectorize_layer,\n",
        "  model,\n",
        "  layers.Activation('sigmoid')\n",
        "])\n",
        "\n",
        "export_model.compile(\n",
        "    loss=losses.BinaryCrossentropy(from_logits=False), optimizer=\"adam\", metrics=['accuracy']\n",
        ")\n",
        "\n",
        "# test with raw_test_ds, which yields raw strings\n",
        "loss, accuracy = export_model.evaluate(raw_test_ds)\n",
        "print(accuracy)"
      ],
      "execution_count": 41,
      "outputs": [
        {
          "output_type": "stream",
          "text": [
            "782/782 [==============================] - 11s 13ms/step - loss: 0.3249 - accuracy: 0.8703\n",
            "0.8674399852752686\n"
          ],
          "name": "stdout"
        }
      ]
    },
    {
      "cell_type": "markdown",
      "metadata": {
        "id": "TKbEE2hxPTx1"
      },
      "source": [
        "### Inference on new data\n",
        "Call model.predict()"
      ]
    },
    {
      "cell_type": "code",
      "metadata": {
        "id": "fSuVAKlVPPUZ",
        "outputId": "c29df64e-cd90-4344-e15f-8eda3359b353",
        "colab": {
          "base_uri": "https://localhost:8080/"
        }
      },
      "source": [
        "examples = [\n",
        "  \"The movie was great!\",\n",
        "  \"The movie was okay.\",\n",
        "  \"The movie was bad...\"\n",
        "]\n",
        "\n",
        "export_model.predict(examples)"
      ],
      "execution_count": 42,
      "outputs": [
        {
          "output_type": "execute_result",
          "data": {
            "text/plain": [
              "array([[0.66702986],\n",
              "       [0.417369  ],\n",
              "       [0.36830717]], dtype=float32)"
            ]
          },
          "metadata": {
            "tags": []
          },
          "execution_count": 42
        }
      ]
    },
    {
      "cell_type": "markdown",
      "metadata": {
        "id": "aq-VDPsvP2MY"
      },
      "source": [
        "Including text preprocessing logic - enables to export model for production + reduces potential for train/test skew.\n",
        "\n",
        "Outside mode --> allows asynchronous CPU processing + buffering when training on GPU\n",
        "Include TextVectorization when ready to deploy."
      ]
    },
    {
      "cell_type": "code",
      "metadata": {
        "id": "LKkA7o2SPyrd"
      },
      "source": [
        ""
      ],
      "execution_count": null,
      "outputs": []
    }
  ]
}