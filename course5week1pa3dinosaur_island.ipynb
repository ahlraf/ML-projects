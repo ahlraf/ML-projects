{
 "cells": [
  {
   "cell_type": "code",
   "execution_count": null,
   "metadata": {},
   "outputs": [],
   "source": [
    "def clip(gradients,maxValue):\n",
    "    for gradient in [dWax,dWaa,dWya,db,dby]:\n",
    "        np.clip(gradient,-maxValue,maxValue,out = gradient)\n",
    "        \n",
    "def sample(parameters,char_to_ix,seed):\n",
    "    vocab_size = by.shape[0]\n",
    "    n_a = Waa.shape[1]\n",
    "    \n",
    "    x = np.zeros([vocab_size,1])\n",
    "    \n",
    "    a_prev = np.zeros([n_a,1])\n",
    "    \n",
    "    indices = []\n",
    "    \n",
    "    idx = -1\n",
    "    \n",
    "    counter = 0\n",
    "    newline_character = char_to_ix['\\n']\n",
    "    \n",
    "    while (idx!=newline_character and counter!=50):\n",
    "        a = np.tanh(np.matmul(Wax,x) + np.matmul(Waa,a_prev) + b)\n",
    "        z = np.matmul(Wya,a) + by\n",
    "        y = softmax(z)\n",
    "        \n",
    "        np.random.seed(counter+seed)\n",
    "        \n",
    "        idx = np.random.choice(range(len(y)),p=y.ravel())\n",
    "        \n",
    "        indices.append(idx)\n",
    "        \n",
    "        x = np.zeros((vocab_size,1))\n",
    "        x[idx] = 1\n",
    "        \n",
    "        a_prev = a\n",
    "        \n",
    "        seed+=1\n",
    "        counter+=1\n",
    "\n",
    "def optimize(X,Y,a_prev,parameters,learning_rate = 0.01):\n",
    "    loss,cache = rnn_forward(X,Y,a_prev,parameters)\n",
    "    gradients,a = rnn_backward(X,Y,parameters,cache)\n",
    "    gradients = clip(gradients,5)\n",
    "    parameters = update_parameters(parameters,gradients,learning_rate)\n",
    "    \n",
    "def model(data,ix_to_char,char_to_ix,num_iterations=35000,n_a=50,dino_names=7,vocab_size=27):\n",
    "    for j in range(num_iterations):\n",
    "        index = j%len(examples)\n",
    "        X = [None] + [char_to_ix[ch] for ch in examples[index]]\n",
    "        Y = X[1:] + [char_to_ix['\\n']]\n",
    "        \n",
    "        curr_loss,gradients,a_prev = optimize(X,Y,a_prev,parameters,learning_rate=0.01)\n",
    "    \n",
    "    \n",
    "    "
   ]
  },
  {
   "cell_type": "code",
   "execution_count": null,
   "metadata": {},
   "outputs": [],
   "source": []
  }
 ],
 "metadata": {
  "kernelspec": {
   "display_name": "Python 3",
   "language": "python",
   "name": "python3"
  },
  "language_info": {
   "codemirror_mode": {
    "name": "ipython",
    "version": 3
   },
   "file_extension": ".py",
   "mimetype": "text/x-python",
   "name": "python",
   "nbconvert_exporter": "python",
   "pygments_lexer": "ipython3",
   "version": "3.8.5"
  }
 },
 "nbformat": 4,
 "nbformat_minor": 4
}
