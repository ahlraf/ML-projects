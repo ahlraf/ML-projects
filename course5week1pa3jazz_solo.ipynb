{
 "cells": [
  {
   "cell_type": "code",
   "execution_count": null,
   "metadata": {},
   "outputs": [],
   "source": [
    "def djmodel(Tx,n_a,n_values):\n",
    "    outputs = []\n",
    "    \n",
    "    for t in range(Tx):\n",
    "        x = Lambda(lambda x: X[:,t,:])(X)\n",
    "        x = reshapor(x)\n",
    "        a,_,c = LSTM_cell(x,initial_state=[a,c])\n",
    "        out = densor(a)\n",
    "        outputs.append(out)\n",
    "        \n",
    "    model = Model(inputs=[X,a0,c0],outputs=outputs)\n",
    "    \n",
    "def music_inference_model(LSTM_cell,densor,n_values=78,n_a=64,Ty=100):\n",
    "    outputs=[]\n",
    "    for t in range(Ty):\n",
    "        a,_,c = LSTM_cell(x,initial_state=[a,c])\n",
    "        out = densor(a)\n",
    "        outputs.append(out)\n",
    "        \n",
    "        x = Lambda(one_hot)(out)\n",
    "        \n",
    "    inference_model = Model(inputs=[X,a0,c0],outputs=outputs)\n",
    "    \n",
    "def predict_and_sample(inference_model,x_initializer = x_initializer,\n",
    "                       a_initializer = a_initializer,\n",
    "                       c_initializer = c_initializer):\n",
    "    pred = inference_model.predict([x_initializer,a_initializer,c_initializer])\n",
    "    indices = np.argmax(pred,axis=-1)\n",
    "    \n",
    "    results = t0_categorical(indices,num_classes=78)\n",
    "    "
   ]
  }
 ],
 "metadata": {
  "kernelspec": {
   "display_name": "Python 3",
   "language": "python",
   "name": "python3"
  },
  "language_info": {
   "codemirror_mode": {
    "name": "ipython",
    "version": 3
   },
   "file_extension": ".py",
   "mimetype": "text/x-python",
   "name": "python",
   "nbconvert_exporter": "python",
   "pygments_lexer": "ipython3",
   "version": "3.8.5"
  }
 },
 "nbformat": 4,
 "nbformat_minor": 4
}
