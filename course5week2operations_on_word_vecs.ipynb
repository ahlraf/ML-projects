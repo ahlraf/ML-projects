{
 "cells": [
  {
   "cell_type": "code",
   "execution_count": null,
   "metadata": {},
   "outputs": [],
   "source": [
    "def cosine_similarity(u,v):\n",
    "    distance = 0.0\n",
    "    dot = np.dot(u,v)\n",
    "    u_norm = np.linalg.norm(u)\n",
    "    v_norm = np.linalg.norm(v)\n",
    "    \n",
    "    cosine_similarity = dot/(u_norm*v_norm)\n",
    "    \n",
    "\n",
    "def complete_analogy(word_a,word_b,word_c,word_to_vec_map):\n",
    "    word_a,word_b,word_c = word_a.lower(),word_b.lower(),word_c.lower()\n",
    "    \n",
    "    e_a = word_to_vec_map[word_a]\n",
    "    e_b = word_to_vec_map[word_b]\n",
    "    e_c = word_to_vec_map[word_c]\n",
    "    \n",
    "    for w in words:\n",
    "        if w in [word_a,word_b,word_c]:\n",
    "            continue\n",
    "        else:\n",
    "            cosine_sim = cosine_similarity(e_b-e_a,word_to_vec_map[w]-e_c)\n",
    "            if cosine_sim > max_cosine_sim:\n",
    "                max_cosine_sim = cosine_sim\n",
    "                best_word = w\n",
    "                \n",
    "#optional\n",
    "def neutralize(word,g,word_to_vec_map):\n",
    "    e = word_to_vec_map[word]\n",
    "    \n",
    "    e_biascomponent = np.dot(e,g)/(np.linalg.norm(g)**2) * g\n",
    "    \n",
    "    e_debiased = e - e_biascomponent\n",
    "    \n",
    "def equalize(pair,bias_axis,word_to_vec_map):\n",
    "    word1,word2 = pair\n",
    "    e_w1,e_w2 = word_to_vec_map[word1],word_to_vec_map[word2]\n",
    "    mu = (e_w1+e_w2)/2\n",
    "    \n",
    "    mu_B = np.dot(mu,bias_axis)/(np.linalg.norm(bias_axis)**2) * bias_axis\n",
    "    mu_orth = mu - mu_B\n",
    "    \n",
    "    e_w1B = np.dot(e_w1,bias_axis)/(np.linalg.norm(bias_axis)**2) * bias_axis\n",
    "    e_w2B = np.dot(e_w2,bias_axis)/(np.linalg.norm(bias_axis)**2) * bias_axis\n",
    "    \n",
    "    corrected_e_w1B = np.sqrt(np.abs(1 - np.sum(mu_orth * mu_orth))) * (e_w1B - mu_B) / np.linalg.norm(e_w1B - mu_B)\n",
    "    corrected_e_w2B = np.sqrt(np.abs(1 - np.sum(mu_orth * mu_orth))) * (e_w2B - mu_B) / np.linalg.norm(e_w2B - mu_B)\n",
    "\n",
    "    e1 = corrected_e_w1B + mu_orth\n",
    "    e2 = corrected_e_w2B + mu_orth\n",
    "                                           "
   ]
  }
 ],
 "metadata": {
  "kernelspec": {
   "display_name": "Python 3",
   "language": "python",
   "name": "python3"
  },
  "language_info": {
   "codemirror_mode": {
    "name": "ipython",
    "version": 3
   },
   "file_extension": ".py",
   "mimetype": "text/x-python",
   "name": "python",
   "nbconvert_exporter": "python",
   "pygments_lexer": "ipython3",
   "version": "3.8.5"
  }
 },
 "nbformat": 4,
 "nbformat_minor": 4
}
