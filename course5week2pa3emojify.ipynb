{
 "cells": [
  {
   "cell_type": "code",
   "execution_count": null,
   "metadata": {},
   "outputs": [],
   "source": [
    "def sentence_to_avg(sentence,word_to_vec_map):\n",
    "    words = sentence.lower().split()\n",
    "    avg = np.zeros((50,))\n",
    "    \n",
    "    for word in words:\n",
    "        avg += word_to_vec_map[word]\n",
    "    avg = avg/len(words)\n",
    "    \n",
    "def model(X,Y,word_to_vec_map,learning_rate=0.01,num_iterations=400):\n",
    "    for t in range(num_iterations):\n",
    "        for i in range(m):\n",
    "            avg = sentence_to_avg(X[i],word_to_vec_map)\n",
    "            z = np.matmul(W,avg) + b\n",
    "            a = softmax(z)\n",
    "            cost = -1 * np.sum(Y_oh[i]*np.log(a))\n",
    "    \n",
    "def sentences_to_indices(X,word_to_index,max_len):\n",
    "    X_indices = np.zeros((m,max_len))\n",
    "    \n",
    "    for i in range(m):\n",
    "        sentence_words = X[i].lower().split()\n",
    "        j = 0\n",
    "        for w in sentence_words:\n",
    "            X_indices[i][j] = word_to_index[w]\n",
    "            j += 1\n",
    "            \n",
    "\n",
    "def pretrained_embedding_layer(word_to_vec_map,word_to_index):\n",
    "    emb_matrix = np.zeros((vocab_length,emb_dim))\n",
    "    \n",
    "    for word,index in word_to_index.items():\n",
    "        emb_matrix[index,:] = word_to_vec_map[word]\n",
    "        \n",
    "    embedding_layer = tf.keras.layers.Embedding(vocab_len,emb_dim,trainable=False)\n",
    "    \n",
    "    \n",
    "def Emojify_V2(input_shape,word_to_vec_map,word_to_index):\n",
    "    sentences = Input(shape = input_shape,dtype = 'int32')\n",
    "    embedding_layer = pretrained_embedding_layer(word_to_vec_map,word_to_index)\n",
    "    \n",
    "    embeddings = embedding_layer(sentence_indices)\n",
    "    X = LSTM(128,return_sequences=True)(embeddings)\n",
    "    X = Dropout(0.5)(X)\n",
    "    X = LSTM(128,return_sequences=False)(X)\n",
    "    X = Dropout(0.5)(X)\n",
    "    X = Dense(5)(X)\n",
    "    X = Activation('softmax')(X)\n",
    "    \n",
    "    model = Model(input=sentence_indices,output=X)"
   ]
  }
 ],
 "metadata": {
  "kernelspec": {
   "display_name": "Python 3",
   "language": "python",
   "name": "python3"
  },
  "language_info": {
   "codemirror_mode": {
    "name": "ipython",
    "version": 3
   },
   "file_extension": ".py",
   "mimetype": "text/x-python",
   "name": "python",
   "nbconvert_exporter": "python",
   "pygments_lexer": "ipython3",
   "version": "3.8.5"
  }
 },
 "nbformat": 4,
 "nbformat_minor": 4
}
