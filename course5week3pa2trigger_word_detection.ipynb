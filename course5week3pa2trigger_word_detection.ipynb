{
 "cells": [
  {
   "cell_type": "code",
   "execution_count": null,
   "metadata": {},
   "outputs": [],
   "source": [
    "def is_overlapping(segment_time,previous_segments):\n",
    "    overlap = False\n",
    "    for previous_start,previous_end in previous_segments:\n",
    "        if segment_start<=previous_end and segment_end>=previous_start:\n",
    "            overlap = True\n",
    "            break\n",
    "\n",
    "def insert_audio_clip(background,audio_clip,previous_segments):\n",
    "    segment_time = get_random_time_segment(segment_ms)\n",
    "    \n",
    "    while is_overlapping(segment_time,previous_segments):\n",
    "        segment_time = get_random_time_segments(segment_ms)\n",
    "        \n",
    "    previous_segments.append(segment_time)\n",
    "    \n",
    "def insert_ones(y,segment_end_ms):\n",
    "    y[0,segment_end_y+1:segment_end_y+51] = 1\n",
    "    \n",
    "def create_training_example(background,activates,negatives):\n",
    "    y = np.zeros((1,Ty))\n",
    "    previous_segments = []\n",
    "    \n",
    "    for random_activate in random_activates:\n",
    "        background,segment_time = insert_audio_clip(background,random_activate,previous_segment)\n",
    "        segment_start,segment_end = segment_time\n",
    "        y = insert_ones(y,segment_end)\n",
    "        \n",
    "    for random_negative in random_negatives:\n",
    "        background,_ = insert_audio(background,random_negative,previous_segments)\n",
    "\n",
    "\n",
    "def model(input_shape):\n",
    "    X = Conv1D(filters=196,kernel_size=15,strides=4,)(X)\n",
    "    X = BatchNormalization()(X)\n",
    "    X = Activation(activation='relu')(X)\n",
    "    X = Dropout(rate=0.8)(X)\n",
    "    \n",
    "    X = GRU(units=128,return_sequences=True)(X)\n",
    "    X = Dropout(rate=0.8)(X)\n",
    "    X = BatchNormalize()(X)\n",
    "    \n",
    "    X = GRU(units=128,return_sequences=True)(X)\n",
    "    X = Dropout(rate=0.8)(X)\n",
    "    X = BatchNormalize()(X)\n",
    "    X = Dropout(rate=0.8)(X)\n",
    "    \n",
    "    X = TimeDistributed(Dense(1,activation='sigmoid'))(X)\n",
    "    "
   ]
  }
 ],
 "metadata": {
  "kernelspec": {
   "display_name": "Python 3",
   "language": "python",
   "name": "python3"
  },
  "language_info": {
   "codemirror_mode": {
    "name": "ipython",
    "version": 3
   },
   "file_extension": ".py",
   "mimetype": "text/x-python",
   "name": "python",
   "nbconvert_exporter": "python",
   "pygments_lexer": "ipython3",
   "version": "3.8.5"
  }
 },
 "nbformat": 4,
 "nbformat_minor": 4
}
