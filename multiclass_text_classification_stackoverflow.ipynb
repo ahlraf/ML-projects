{
  "nbformat": 4,
  "nbformat_minor": 0,
  "metadata": {
    "colab": {
      "name": "multiclass_text_classification_stackoverflow",
      "provenance": [],
      "authorship_tag": "ABX9TyPFqKM6lDv9OFqFK2g0J3pY",
      "include_colab_link": true
    },
    "kernelspec": {
      "name": "python3",
      "display_name": "Python 3"
    },
    "language_info": {
      "name": "python"
    }
  },
  "cells": [
    {
      "cell_type": "markdown",
      "metadata": {
        "id": "view-in-github",
        "colab_type": "text"
      },
      "source": [
        "<a href=\"https://colab.research.google.com/github/ahlraf/ML-projects/blob/main/multiclass_text_classification_stackoverflow.ipynb\" target=\"_parent\"><img src=\"https://colab.research.google.com/assets/colab-badge.svg\" alt=\"Open In Colab\"/></a>"
      ]
    },
    {
      "cell_type": "code",
      "metadata": {
        "id": "cwSqnn1uoeWy"
      },
      "source": [
        "import matplotlib.pyplot as plt\n",
        "import os\n",
        "import re\n",
        "import shutil\n",
        "import string\n",
        "import tensorflow as tf\n",
        "\n",
        "from tensorflow.keras import layers\n",
        "from tensorflow.keras import losses\n",
        "from tensorflow.keras import preprocessing\n",
        "from tensorflow.keras.layers.experimental.preprocessing import TextVectorization"
      ],
      "execution_count": 1,
      "outputs": []
    },
    {
      "cell_type": "code",
      "metadata": {
        "colab": {
          "base_uri": "https://localhost:8080/"
        },
        "id": "SyRjHs8po10t",
        "outputId": "8740301b-7396-49aa-8cc6-31d4a30f20e3"
      },
      "source": [
        "print(tf.__version__)"
      ],
      "execution_count": 2,
      "outputs": [
        {
          "output_type": "stream",
          "text": [
            "2.4.1\n"
          ],
          "name": "stdout"
        }
      ]
    },
    {
      "cell_type": "markdown",
      "metadata": {
        "id": "vKeDavfTpDi0"
      },
      "source": [
        "**Sentiment analysis**<br>\n",
        "Trains a sentiment analysis model to predict the tag of a programming question on Stack Overflow. "
      ]
    },
    {
      "cell_type": "markdown",
      "metadata": {
        "id": "-u-DuCIZppQN"
      },
      "source": [
        "Download and explore the IMDb dataset:"
      ]
    },
    {
      "cell_type": "code",
      "metadata": {
        "id": "Lx2nuLcLpnVD"
      },
      "source": [
        "url = \"http://storage.googleapis.com/download.tensorflow.org/data/stack_overflow_16k.tar.gz\"\n",
        "data = tf.keras.utils.get_file(\"stack_overflow_16k\", url, untar=True, cache_dir='.', cache_subdir='')"
      ],
      "execution_count": 7,
      "outputs": []
    },
    {
      "cell_type": "code",
      "metadata": {
        "colab": {
          "base_uri": "https://localhost:8080/"
        },
        "id": "GRQHjI3iTiWs",
        "outputId": "2092e5be-0424-47bb-b3cc-c1688673344f"
      },
      "source": [
        "data_dir = os.path.dirname(data)\n",
        "os.listdir(data_dir)"
      ],
      "execution_count": 9,
      "outputs": [
        {
          "output_type": "execute_result",
          "data": {
            "text/plain": [
              "['.config',\n",
              " 'stack_overflow_16k.tar.gz',\n",
              " 'test',\n",
              " 'train',\n",
              " 'README.md',\n",
              " 'sample_data']"
            ]
          },
          "metadata": {
            "tags": []
          },
          "execution_count": 9
        }
      ]
    },
    {
      "cell_type": "code",
      "metadata": {
        "colab": {
          "base_uri": "https://localhost:8080/"
        },
        "id": "_-BcpugDrU73",
        "outputId": "b12f6967-4494-4b9d-b5e2-69a68147aa9f"
      },
      "source": [
        "train_dir = os.path.join(data_dir,'train')\n",
        "os.listdir(train_dir)"
      ],
      "execution_count": 10,
      "outputs": [
        {
          "output_type": "execute_result",
          "data": {
            "text/plain": [
              "['javascript', 'java', 'csharp', 'python']"
            ]
          },
          "metadata": {
            "tags": []
          },
          "execution_count": 10
        }
      ]
    },
    {
      "cell_type": "code",
      "metadata": {
        "colab": {
          "base_uri": "https://localhost:8080/"
        },
        "id": "tRhY83HXrvVR",
        "outputId": "d2c52429-acaa-44dc-cf5c-334cd3a9bbce"
      },
      "source": [
        "sample_file = os.path.join(train_dir, 'javascript/5.txt')\n",
        "with open(sample_file) as f:\n",
        "  print(f.read())"
      ],
      "execution_count": 11,
      "outputs": [
        {
          "output_type": "stream",
          "text": [
            "\"show specific output through if else statement i'm working out how to show entries in a dropdown list in dat.gui interface based on user input, but the issue i'm having is not related to the dat.gui programming, but rather my lack of blank skill...i've got two lists, one showing starsystem and 0 and 1 as designations..the other is planets that show the specific planets inside starsystem. .how do i program this statement so these two arrays only show when 0 or 1 is selected?..var jumpswitcher = 0;..    this.starsystems = 'dat.gui';.//starsystem list.    gui.add(this, 'starsystems', ['0', '1']).onchange(function(value) {.        if (value === '1') {.            jumpswitcher = 1;.        }.    });..    this.planets = 'dat.gui';.//if the var jumpswitcher is 0, display these variables in the planets array..    if (jumpswitcher === 0) {.        planets = ['mercury', 'venus', 'earth', 'mars', 'jupiter', 'saturn', 'uranus', 'neptune'];.    } ..//if the jumpswitcher is 1, meaning if the user has clicked on \"\"1\"\" under the starsystem, show these planets. .    else if (jumpswitcher === 1) {.        planets = ['ilos', 'tuchanka', 'palaven', 'illium'];.    }..    gui.add(this, 'planets', planets).name(\"\"planets in this system\"\").onchange(function(value) {.    });...i'd say that this should work, but somehow it doesn't. it does when i simply make the condition in the statement something like if (1>0) {show 1} else {show 2}.  ..ps:..var jumpswitcher = 1;  .    this.starsystems = 'dat.gui';.gui.add(this, 'starsystems', ['1', '2', '3', '4', '5', '6', '7', '8', '9', '10']).onchange(function(value) {..    jumpswitcher = +value;..});..this.planets = 'dat.gui';..switch (jumpswitcher) {.    case 1:    .        gui.add(this, 'planets', ['mercury', 'venus', 'earth', 'mars', 'jupiter', 'saturn', 'uranus', 'neptune']).name(\"\"planets in this system\"\").onchange(function(value) {..        });    ..        break;.    case 2:    .        gui.add(this, 'planets', ['ilos', 'tuchanka', 'illium', 'palaven']).name(\"\"planets in this system\"\").onchange(function(value) {..        });..        break;    .}\"\n",
            "\n"
          ],
          "name": "stdout"
        }
      ]
    },
    {
      "cell_type": "markdown",
      "metadata": {
        "id": "cGfakjOVsqac"
      },
      "source": [
        "**Load the dataset**: using text_dataset_from_directory utility. To prepare dataset for binary classification, need 2 folders on disk: class_a and class_b --> +ve and -ve reviews."
      ]
    },
    {
      "cell_type": "markdown",
      "metadata": {
        "id": "90k4OiIttfnc"
      },
      "source": [
        "Use text_dataset_from_directory utility to create labeled tf.data.Dataset .<br>Create 80:20 split of training data using validation_split:"
      ]
    },
    {
      "cell_type": "code",
      "metadata": {
        "colab": {
          "base_uri": "https://localhost:8080/"
        },
        "id": "TDwr3AQKthoN",
        "outputId": "086e00ad-a69b-4198-bf2c-3fa4ea61b084"
      },
      "source": [
        "batch_size = 32\n",
        "seed = 42\n",
        "raw_train_ds = tf.keras.preprocessing.text_dataset_from_directory(\n",
        "    'train', \n",
        "    batch_size=batch_size, \n",
        "    validation_split=0.2, \n",
        "    subset='training', \n",
        "    seed=seed)"
      ],
      "execution_count": 12,
      "outputs": [
        {
          "output_type": "stream",
          "text": [
            "Found 8000 files belonging to 4 classes.\n",
            "Using 6400 files for training.\n"
          ],
          "name": "stdout"
        }
      ]
    },
    {
      "cell_type": "markdown",
      "metadata": {
        "id": "qcVlD5d9UOLx"
      },
      "source": [
        "==> There are 8000 examples in the training folder, we're using 80% (6400) for training."
      ]
    },
    {
      "cell_type": "code",
      "metadata": {
        "colab": {
          "base_uri": "https://localhost:8080/"
        },
        "id": "HWV3_fgKusFX",
        "outputId": "81376414-7db1-4ac4-d64d-52e594f28fd9"
      },
      "source": [
        "for text_batch, label_batch in raw_train_ds.take(1):\n",
        "  for i in range(3):\n",
        "    print('Question', text_batch.numpy()[i])\n",
        "    print('Label', label_batch.numpy()[i])"
      ],
      "execution_count": 13,
      "outputs": [
        {
          "output_type": "stream",
          "text": [
            "Question b'\"my tester is going to the wrong constructor i am new to programming so if i ask a question that can be easily fixed, please forgive me. my program has a tester class with a main. when i send that to my regularpolygon class, it sends it to the wrong constructor. i have two constructors. 1 without perameters..public regularpolygon().    {.       mynumsides = 5;.       mysidelength = 30;.    }//end default constructor...and my second, with perameters. ..public regularpolygon(int numsides, double sidelength).    {.        mynumsides = numsides;.        mysidelength = sidelength;.    }// end constructor...in my tester class i have these two lines:..regularpolygon shape = new regularpolygon(numsides, sidelength);.        shape.menu();...numsides and sidelength were declared and initialized earlier in the testing class...so what i want to happen, is the tester class sends numsides and sidelength to the second constructor and use it in that class. but it only uses the default constructor, which therefor ruins the whole rest of the program. can somebody help me?..for those of you who want to see more of my code: here you go..public double vertexangle().    {.        system.out.println(\"\"the vertex angle method: \"\" + mynumsides);// prints out 5.        system.out.println(\"\"the vertex angle method: \"\" + mysidelength); // prints out 30..        double vertexangle;.        vertexangle = ((mynumsides - 2.0) / mynumsides) * 180.0;.        return vertexangle;.    }//end method vertexangle..public void menu().{.    system.out.println(mynumsides); // prints out what the user puts in.    system.out.println(mysidelength); // prints out what the user puts in.    gotographic();.    calcr(mynumsides, mysidelength);.    calcr(mynumsides, mysidelength);.    print(); .}// end menu...this is my entire tester class:..public static void main(string[] arg).{.    int numsides;.    double sidelength;.    scanner keyboard = new scanner(system.in);..    system.out.println(\"\"welcome to the regular polygon program!\"\");.    system.out.println();..    system.out.print(\"\"enter the number of sides of the polygon ==&gt; \"\");.    numsides = keyboard.nextint();.    system.out.println();..    system.out.print(\"\"enter the side length of each side ==&gt; \"\");.    sidelength = keyboard.nextdouble();.    system.out.println();..    regularpolygon shape = new regularpolygon(numsides, sidelength);.    shape.menu();.}//end main...for testing it i sent it numsides 4 and sidelength 100.\"\\n'\n",
            "Label 1\n",
            "Question b'\"blank code slow skin detection this code changes the color space to lab and using a threshold finds the skin area of an image. but it\\'s ridiculously slow. i don\\'t know how to make it faster ?    ..from colormath.color_objects import *..def skindetection(img, treshold=80, color=[255,20,147]):..    print img.shape.    res=img.copy().    for x in range(img.shape[0]):.        for y in range(img.shape[1]):.            rgbimg=rgbcolor(img[x,y,0],img[x,y,1],img[x,y,2]).            labimg=rgbimg.convert_to(\\'lab\\', debug=false).            if (labimg.lab_l &gt; treshold):.                res[x,y,:]=color.            else: .                res[x,y,:]=img[x,y,:]..    return res\"\\n'\n",
            "Label 3\n",
            "Question b'\"option and validation in blank i want to add a new option on my system where i want to add two text files, both rental.txt and customer.txt. inside each text are id numbers of the customer, the videotape they need and the price...i want to place it as an option on my code. right now i have:...add customer.rent return.view list.search.exit...i want to add this as my sixth option. say for example i ordered a video, it would display the price and would let me confirm the price and if i am going to buy it or not...here is my current code:..  import blank.io.*;.    import blank.util.arraylist;.    import static blank.lang.system.out;..    public class rentalsystem{.    static bufferedreader input = new bufferedreader(new inputstreamreader(system.in));.    static file file = new file(\"\"file.txt\"\");.    static arraylist&lt;string&gt; list = new arraylist&lt;string&gt;();.    static int rows;..    public static void main(string[] args) throws exception{.        introduction();.        system.out.print(\"\"nn\"\");.        login();.        system.out.print(\"\"nnnnnnnnnnnnnnnnnnnnnn\"\");.        introduction();.        string repeat;.        do{.            loadfile();.            system.out.print(\"\"nwhat do you want to do?nn\"\");.            system.out.print(\"\"n                    - - - - - - - - - - - - - - - - - - - - - - -\"\");.            system.out.print(\"\"nn                    |     1. add customer    |   2. rent return |n\"\");.            system.out.print(\"\"n                    - - - - - - - - - - - - - - - - - - - - - - -\"\");.            system.out.print(\"\"nn                    |     3. view list       |   4. search      |n\"\");.            system.out.print(\"\"n                    - - - - - - - - - - - - - - - - - - - - - - -\"\");.            system.out.print(\"\"nn                                             |   5. exit        |n\"\");.            system.out.print(\"\"n                                              - - - - - - - - - -\"\");.            system.out.print(\"\"nnchoice:\"\");.            int choice = integer.parseint(input.readline());.            switch(choice){.                case 1:.                    writedata();.                    break;.                case 2:.                    rentdata();.                    break;.                case 3:.                    viewlist();.                    break;.                case 4:.                    search();.                    break;.                case 5:.                    system.out.println(\"\"goodbye!\"\");.                    system.exit(0);.                default:.                    system.out.print(\"\"invalid choice: \"\");.                    break;.            }.            system.out.print(\"\"ndo another task? [y/n] \"\");.            repeat = input.readline();.        }while(repeat.equals(\"\"y\"\"));..        if(repeat!=\"\"y\"\") system.out.println(\"\"ngoodbye!\"\");..    }..    public static void writedata() throws exception{.        system.out.print(\"\"nname: \"\");.        string cname = input.readline();.        system.out.print(\"\"address: \"\");.        string add = input.readline();.        system.out.print(\"\"phone no.: \"\");.        string pno = input.readline();.        system.out.print(\"\"rental amount: \"\");.        string ramount = input.readline();.        system.out.print(\"\"tapenumber: \"\");.        string tno = input.readline();.        system.out.print(\"\"title: \"\");.        string title = input.readline();.        system.out.print(\"\"date borrowed: \"\");.        string dborrowed = input.readline();.        system.out.print(\"\"due date: \"\");.        string ddate = input.readline();.        createline(cname, add, pno, ramount,tno, title, dborrowed, ddate);.        rentdata();.    }..    public static void createline(string name, string address, string phone , string rental, string tapenumber, string title, string borrowed, string due) throws exception{.        filewriter fw = new filewriter(file, true);.        fw.write(\"\"nname: \"\"+name + \"\"naddress: \"\" + address +\"\"nphone no.: \"\"+ phone+\"\"nrentalamount: \"\"+rental+\"\"ntape no.: \"\"+ tapenumber+\"\"ntitle: \"\"+ title+\"\"ndate borrowed: \"\"+borrowed +\"\"ndue date: \"\"+ due+\"\":rn\"\");.        fw.close();.    }..    public static void loadfile() throws exception{.        try{.            list.clear();.            fileinputstream fstream = new fileinputstream(file);.            bufferedreader br = new bufferedreader(new inputstreamreader(fstream));.            rows = 0;.            while( br.ready()).            {.                list.add(br.readline());.                rows++;.            }.            br.close();.        } catch(exception e){.            system.out.println(\"\"list not yet loaded.\"\");.        }.    }..    public static void viewlist(){.        system.out.print(\"\"n~ ~ ~ ~ ~ ~ ~ ~ ~ ~ ~\"\");.        system.out.print(\"\" |list of all costumers|\"\");.        system.out.print(\"\"~ ~ ~ ~ ~ ~ ~ ~ ~ ~ ~\"\");.        for(int i = 0; i &lt;rows; i++){.            system.out.println(list.get(i));.        }.    }.        public static void rentdata()throws exception.    {   system.out.print(\"\"n~ ~ ~ ~ ~ ~ ~ ~ ~ ~ ~\"\");.        system.out.print(\"\" |rent data list|\"\");.        system.out.print(\"\"~ ~ ~ ~ ~ ~ ~ ~ ~ ~ ~\"\");.        system.out.print(\"\"nenter customer name: \"\");.        string cname = input.readline();.        system.out.print(\"\"date borrowed: \"\");.        string dborrowed = input.readline();.        system.out.print(\"\"due date: \"\");.        string ddate = input.readline();.        system.out.print(\"\"return date: \"\");.        string rdate = input.readline();.        system.out.print(\"\"rent amount: \"\");.        string ramount = input.readline();..        system.out.print(\"\"you pay:\"\"+ramount);...    }.    public static void search()throws exception.    {   system.out.print(\"\"n~ ~ ~ ~ ~ ~ ~ ~ ~ ~ ~\"\");.        system.out.print(\"\" |search costumers|\"\");.        system.out.print(\"\"~ ~ ~ ~ ~ ~ ~ ~ ~ ~ ~\"\");.        system.out.print(\"\"nenter costumer name: \"\");.        string cname = input.readline();.        boolean found = false;..        for(int i=0; i &lt; rows; i++){.            string temp[] = list.get(i).split(\"\",\"\");..            if(cname.equals(temp[0])){.            system.out.println(\"\"search result:nyou are \"\" + temp[0] + \"\" from \"\" + temp[1] + \"\".\"\"+ temp[2] + \"\".\"\"+ temp[3] + \"\".\"\"+ temp[4] + \"\".\"\"+ temp[5] + \"\" is \"\" + temp[6] + \"\".\"\"+ temp[7] + \"\" is \"\" + temp[8] + \"\".\"\");.                found = true;.            }.        }..        if(!found){.            system.out.print(\"\"no results.\"\");.        }..    }..        public static boolean evaluate(string uname, string pass){.        if (uname.equals(\"\"admin\"\")&amp;&amp;pass.equals(\"\"12345\"\")) return true;.        else return false;.    }..    public static string login()throws exception{.        bufferedreader input=new bufferedreader(new inputstreamreader(system.in));.        int counter=0;.        do{.            system.out.print(\"\"username:\"\");.            string uname =input.readline();.            system.out.print(\"\"password:\"\");.            string pass =input.readline();..            boolean accept= evaluate(uname,pass);..            if(accept){.                break;.                }else{.                    system.out.println(\"\"incorrect username or password!\"\");.                    counter ++;.                    }.        }while(counter&lt;3);..            if(counter !=3) return \"\"login successful\"\";.            else return \"\"login failed\"\";.            }.        public static void introduction() throws exception{..        system.out.println(\"\"                  - - - - - - - - - - - - - - - - - - - - - - - - -\"\");.        system.out.println(\"\"                  !                  r e n t a l                  !\"\");.        system.out.println(\"\"                   ! ~ ~ ~ ~ ~ !  =================  ! ~ ~ ~ ~ ~ !\"\");.        system.out.println(\"\"                  !                  s y s t e m                  !\"\");.        system.out.println(\"\"                  - - - - - - - - - - - - - - - - - - - - - - - - -\"\");.        }..}\"\\n'\n",
            "Label 1\n"
          ],
          "name": "stdout"
        }
      ]
    },
    {
      "cell_type": "code",
      "metadata": {
        "colab": {
          "base_uri": "https://localhost:8080/"
        },
        "id": "NYwedI7UvgGN",
        "outputId": "c891cfb6-aec7-4f34-ecd7-6dfb2dc44d92"
      },
      "source": [
        "print('Label 0 corresponds to', raw_train_ds.class_names[0])\n",
        "print('Label 1 corresponds to', raw_train_ds.class_names[1])\n",
        "print('Label 2 corresponds to', raw_train_ds.class_names[2])\n",
        "print('Label 3 corresponds to', raw_train_ds.class_names[3])"
      ],
      "execution_count": 14,
      "outputs": [
        {
          "output_type": "stream",
          "text": [
            "Label 0 corresponds to csharp\n",
            "Label 1 corresponds to java\n",
            "Label 2 corresponds to javascript\n",
            "Label 3 corresponds to python\n"
          ],
          "name": "stdout"
        }
      ]
    },
    {
      "cell_type": "markdown",
      "metadata": {
        "id": "DX7sRGmVU3HR"
      },
      "source": [
        "When using validation_split and subset arguments, we specify a random seed, pass shuffle=False so that validation and training splits have no overlap."
      ]
    },
    {
      "cell_type": "markdown",
      "metadata": {
        "id": "Q1ttbJsov4PH"
      },
      "source": [
        "Validation set:"
      ]
    },
    {
      "cell_type": "code",
      "metadata": {
        "colab": {
          "base_uri": "https://localhost:8080/"
        },
        "id": "OUPMfvvOv3yj",
        "outputId": "2e54543f-f537-42f0-f408-59bceeccb90d"
      },
      "source": [
        "raw_val_ds = tf.keras.preprocessing.text_dataset_from_directory(\n",
        "    'train',\n",
        "    batch_size=batch_size,\n",
        "    validation_split=0.2,\n",
        "    subset='validation',\n",
        "    seed=seed\n",
        ")"
      ],
      "execution_count": 15,
      "outputs": [
        {
          "output_type": "stream",
          "text": [
            "Found 8000 files belonging to 4 classes.\n",
            "Using 1600 files for validation.\n"
          ],
          "name": "stdout"
        }
      ]
    },
    {
      "cell_type": "markdown",
      "metadata": {
        "id": "6dpM4eLAwYCO"
      },
      "source": [
        "Test set:"
      ]
    },
    {
      "cell_type": "code",
      "metadata": {
        "colab": {
          "base_uri": "https://localhost:8080/"
        },
        "id": "OzzXPYpWv3oE",
        "outputId": "ebb3b63c-7d46-4f62-fd29-21d504f95d00"
      },
      "source": [
        "raw_test_ds = tf.keras.preprocessing.text_dataset_from_directory(\n",
        "    'test',\n",
        "    batch_size=batch_size\n",
        ")"
      ],
      "execution_count": 16,
      "outputs": [
        {
          "output_type": "stream",
          "text": [
            "Found 8000 files belonging to 4 classes.\n"
          ],
          "name": "stdout"
        }
      ]
    },
    {
      "cell_type": "markdown",
      "metadata": {
        "id": "8y_jVwCCueS4"
      },
      "source": [
        "### Prepare dataset for training\n",
        "Standardize, tokenize, vectorize the data: using preprocessing.TextVectorization layer.<br><br>\n",
        "Standardization = preprocessing the text (remove punctuation/ HTML elements - simplify dataset).<br>\n",
        "Tokenization = splitting strings into tokens<br>\n",
        "Vectorization = converting tokens into numbers so they can be fed into a neural network.<br><br>\n",
        "HTML tags aren't removed by default standardizer in TextVectorization layer - write custom standardization function to remove the HTML."
      ]
    },
    {
      "cell_type": "markdown",
      "metadata": {
        "id": "kSMv1Ryu0DOK"
      },
      "source": [
        "To prevent train/test skew, preprocess data identically at train & test time - include TextVectorization layer inside model."
      ]
    },
    {
      "cell_type": "code",
      "metadata": {
        "id": "7U8ASfqWuWFF"
      },
      "source": [
        "def custom_standardization(input_data):\n",
        "  lowercase = tf.strings.lower(input_data)\n",
        "  stripped_html = tf.strings.regex_replace(lowercase, '<br />', ' ')\n",
        "  return tf.strings.regex_replace(stripped_html, '[%s]' % re.escape(string.punctuation), '')"
      ],
      "execution_count": 24,
      "outputs": []
    },
    {
      "cell_type": "markdown",
      "metadata": {
        "id": "as69UjxAzRDb"
      },
      "source": [
        "TextVectorization layer: use to standardize, tokenize, vectorize. Set output_mode to int to create unique integer indices for each token.\n",
        "<br>\n",
        "Using default split function + custom standardization function + define constants (explicit max sequence_length - layer pads/ truncates sequence accordingly)."
      ]
    },
    {
      "cell_type": "code",
      "metadata": {
        "id": "0MTTS47_zIKT"
      },
      "source": [
        "max_features = 10000\n",
        "sequence_length = 250\n",
        "\n",
        "vectorize_layer = TextVectorization(\n",
        "    standardize=custom_standardization,\n",
        "    max_tokens=max_features,\n",
        "    output_mode='int',\n",
        "    output_sequence_length=sequence_length\n",
        ")"
      ],
      "execution_count": 26,
      "outputs": []
    },
    {
      "cell_type": "markdown",
      "metadata": {
        "id": "zW9ageLL0oUr"
      },
      "source": [
        "Call adapt to fit the state of the preprocessing layer to the dataset - causes model to build an index of strings to integers.<br>\n",
        "\n",
        "Use only training data when calling adapt (using test set leaks information)."
      ]
    },
    {
      "cell_type": "code",
      "metadata": {
        "id": "479tlP0m0Aur"
      },
      "source": [
        "# make text-only dataset (without labels), then call adapt\n",
        "train_text = raw_train_ds.map(lambda x, y:x)\n",
        "vectorize_layer.adapt(train_text)"
      ],
      "execution_count": 27,
      "outputs": []
    },
    {
      "cell_type": "code",
      "metadata": {
        "id": "O-dpUB7Q1nfW"
      },
      "source": [
        "def vectorize_text(text, label):\n",
        "  text = tf.expand_dims(text, -1)\n",
        "  return vectorize_layer(text), label"
      ],
      "execution_count": 28,
      "outputs": []
    },
    {
      "cell_type": "code",
      "metadata": {
        "colab": {
          "base_uri": "https://localhost:8080/"
        },
        "id": "e1N02u881zZv",
        "outputId": "81079296-92e8-43cc-cdec-08f5df36b753"
      },
      "source": [
        "# retrieve batch of 32 reviews and labels from the dataset\n",
        "text_batch, label_batch = next(iter(raw_train_ds))\n",
        "first_ques, first_label = text_batch[0], label_batch[0] \n",
        "print(\"Question\", first_ques)\n",
        "print(\"Label\", raw_train_ds.class_names[first_label])\n",
        "print(\"Vectorized question\", vectorize_text(first_ques, first_label))"
      ],
      "execution_count": 29,
      "outputs": [
        {
          "output_type": "stream",
          "text": [
            "Question tf.Tensor(b'\"function expected error in blank for dynamically created check box when it is clicked i want to grab the attribute value.it is working in ie 8,9,10 but not working in ie 11,chrome shows function expected error..&lt;input type=checkbox checked=\\'checked\\' id=\\'symptomfailurecodeid\\' tabindex=\\'54\\' style=\\'cursor:pointer;\\' onclick=chkclickevt(this);  failurecodeid=\"\"1\"\" &gt;...function chkclickevt(obj) { .    alert(obj.attributes(\"\"failurecodeid\"\"));.}\"\\n', shape=(), dtype=string)\n",
            "Label javascript\n",
            "Vectorized question (<tf.Tensor: shape=(1, 250), dtype=int64, numpy=\n",
            "array([[  38,  450,   65,    7,   16,   12,  892,  265,  186,  451,   44,\n",
            "          11,    6,  685,    3,   46,    4, 2062,    2,  485,    1,    6,\n",
            "         158,    7,  479,    1,   26,   20,  158,    7,  479,    1,  502,\n",
            "          38,  450,    1, 1767, 1763,    1,    1,    1,    1,    1,    1,\n",
            "           1,    1,    0,    0,    0,    0,    0,    0,    0,    0,    0,\n",
            "           0,    0,    0,    0,    0,    0,    0,    0,    0,    0,    0,\n",
            "           0,    0,    0,    0,    0,    0,    0,    0,    0,    0,    0,\n",
            "           0,    0,    0,    0,    0,    0,    0,    0,    0,    0,    0,\n",
            "           0,    0,    0,    0,    0,    0,    0,    0,    0,    0,    0,\n",
            "           0,    0,    0,    0,    0,    0,    0,    0,    0,    0,    0,\n",
            "           0,    0,    0,    0,    0,    0,    0,    0,    0,    0,    0,\n",
            "           0,    0,    0,    0,    0,    0,    0,    0,    0,    0,    0,\n",
            "           0,    0,    0,    0,    0,    0,    0,    0,    0,    0,    0,\n",
            "           0,    0,    0,    0,    0,    0,    0,    0,    0,    0,    0,\n",
            "           0,    0,    0,    0,    0,    0,    0,    0,    0,    0,    0,\n",
            "           0,    0,    0,    0,    0,    0,    0,    0,    0,    0,    0,\n",
            "           0,    0,    0,    0,    0,    0,    0,    0,    0,    0,    0,\n",
            "           0,    0,    0,    0,    0,    0,    0,    0,    0,    0,    0,\n",
            "           0,    0,    0,    0,    0,    0,    0,    0,    0,    0,    0,\n",
            "           0,    0,    0,    0,    0,    0,    0,    0,    0,    0,    0,\n",
            "           0,    0,    0,    0,    0,    0,    0,    0,    0,    0,    0,\n",
            "           0,    0,    0,    0,    0,    0,    0,    0,    0,    0,    0,\n",
            "           0,    0,    0,    0,    0,    0,    0,    0]])>, <tf.Tensor: shape=(), dtype=int32, numpy=2>)\n"
          ],
          "name": "stdout"
        }
      ]
    },
    {
      "cell_type": "markdown",
      "metadata": {
        "id": "1Xrk3HqD3R1x"
      },
      "source": [
        "Each token has been replaced by an integer. Can look up the token each string corresponds to by calling .get_vocabulary() on the layer."
      ]
    },
    {
      "cell_type": "code",
      "metadata": {
        "colab": {
          "base_uri": "https://localhost:8080/"
        },
        "id": "SFCGjtKj3Fxv",
        "outputId": "8b89f7e5-2e27-49be-a846-d00c01e9e8c3"
      },
      "source": [
        "print(\"1287 -->\", vectorize_layer.get_vocabulary()[1287])\n",
        "print(\"313 -->\", vectorize_layer.get_vocabulary()[313])\n",
        "print(\"Vocabulary size: {}\".format(len(vectorize_layer.get_vocabulary())))"
      ],
      "execution_count": 30,
      "outputs": [
        {
          "output_type": "stream",
          "text": [
            "1287 --> scissors\n",
            "313 --> source\n",
            "Vocabulary size: 10000\n"
          ],
          "name": "stdout"
        }
      ]
    },
    {
      "cell_type": "markdown",
      "metadata": {
        "id": "xUwhkqJO324V"
      },
      "source": [
        "Apply TextVectorization layer to train, validation, test dataset:"
      ]
    },
    {
      "cell_type": "code",
      "metadata": {
        "id": "w-oBcmbz3zqD"
      },
      "source": [
        "train_ds = raw_train_ds.map(vectorize_text)\n",
        "val_ds = raw_val_ds.map(vectorize_text)\n",
        "test_ds = raw_test_ds.map(vectorize_text)"
      ],
      "execution_count": 31,
      "outputs": []
    },
    {
      "cell_type": "markdown",
      "metadata": {
        "id": "lGtvDVTk4Mu5"
      },
      "source": [
        "### Configuring dataset for performance\n",
        ".cache() --> keeps data in memory after it's loaded off disk; this ensures the dataset doesn't become a bottleneck while training. If dataset too large to fit into memory, this creates a permanent on-disk cache - more efficient that many small files.<br>\n",
        ".prefetch() --> overlaps data preprocessing and model execution while training."
      ]
    },
    {
      "cell_type": "code",
      "metadata": {
        "id": "WiABL2uo4KBp"
      },
      "source": [
        "AUTOTUNE = tf.data.AUTOTUNE\n",
        "\n",
        "train_ds = train_ds.cache().prefetch(buffer_size=AUTOTUNE)\n",
        "val_ds = val_ds.cache().prefetch(buffer_size=AUTOTUNE)\n",
        "test_ds = test_ds.cache().prefetch(buffer_size=AUTOTUNE)"
      ],
      "execution_count": 32,
      "outputs": []
    },
    {
      "cell_type": "markdown",
      "metadata": {
        "id": "wii3023f5MdO"
      },
      "source": [
        "### Create model"
      ]
    },
    {
      "cell_type": "code",
      "metadata": {
        "id": "sAahx_k95Lag"
      },
      "source": [
        "embedding_dim = 16"
      ],
      "execution_count": 34,
      "outputs": []
    },
    {
      "cell_type": "code",
      "metadata": {
        "colab": {
          "base_uri": "https://localhost:8080/"
        },
        "id": "SzEsZTec5SbE",
        "outputId": "0ababdac-2c66-4303-c7ff-c9be36d1b208"
      },
      "source": [
        "model = tf.keras.Sequential([\n",
        "  layers.Embedding(max_features+1, embedding_dim),\n",
        "  layers.Dropout(0.2),\n",
        "  layers.GlobalAveragePooling1D(),\n",
        "  layers.Dropout(0.2),\n",
        "  layers.Dense(4)  # 4 classes now\n",
        "])\n",
        "\n",
        "model.summary()"
      ],
      "execution_count": 35,
      "outputs": [
        {
          "output_type": "stream",
          "text": [
            "Model: \"sequential\"\n",
            "_________________________________________________________________\n",
            "Layer (type)                 Output Shape              Param #   \n",
            "=================================================================\n",
            "embedding (Embedding)        (None, None, 16)          160016    \n",
            "_________________________________________________________________\n",
            "dropout (Dropout)            (None, None, 16)          0         \n",
            "_________________________________________________________________\n",
            "global_average_pooling1d (Gl (None, 16)                0         \n",
            "_________________________________________________________________\n",
            "dropout_1 (Dropout)          (None, 16)                0         \n",
            "_________________________________________________________________\n",
            "dense (Dense)                (None, 4)                 68        \n",
            "=================================================================\n",
            "Total params: 160,084\n",
            "Trainable params: 160,084\n",
            "Non-trainable params: 0\n",
            "_________________________________________________________________\n"
          ],
          "name": "stdout"
        }
      ]
    },
    {
      "cell_type": "markdown",
      "metadata": {
        "id": "SvX6ZXO75yVT"
      },
      "source": [
        "Layers stacked sequentially to build classifier:\n",
        "1. Embedding layer: takes integer encoded reviews and looks up embedding vector for each word-index. Vectors learned at model trains, add dimension to output array. Resulting dimensions = (batch, sequence, embedding).\n",
        "2. GlobalAveragePooling1D layer: returns fixed length output vector for each example by averaging over sequence dimension - allows model to handle input of variable length.\n",
        "3. Fixed-length output vector piped through fully-connected (Dense) layer with 16 hidden units.\n",
        "4. Last layer densely connected with single output node."
      ]
    },
    {
      "cell_type": "markdown",
      "metadata": {
        "id": "6dCmuhdF6pkZ"
      },
      "source": [
        "### Loss function and optimizer\n",
        "Binary classification problem, model outputs probability (single unit layer with sigmoid activation) - losses.BinaryCrossentropy loss function + Adam optimizer."
      ]
    },
    {
      "cell_type": "code",
      "metadata": {
        "id": "wk0lGbGL5riP"
      },
      "source": [
        "model.compile(loss=losses.SparseCategoricalCrossentropy(from_logits=True),\n",
        "              optimizer='adam',\n",
        "              metrics=tf.metrics.SparseCategoricalCrossentropy(name=\"sparse_categorical_crossentropy\",dtype=None,from_logits=True))\n",
        "#from_logits=True ==> values of loss obtained by the model are not normalized"
      ],
      "execution_count": 36,
      "outputs": []
    },
    {
      "cell_type": "markdown",
      "metadata": {
        "id": "fw7jsVUD7bxp"
      },
      "source": [
        "### Train model"
      ]
    },
    {
      "cell_type": "code",
      "metadata": {
        "colab": {
          "base_uri": "https://localhost:8080/"
        },
        "id": "cbAb8MWP7ZaU",
        "outputId": "515db6a6-3be4-414e-da6b-9ab5fd06333d"
      },
      "source": [
        "epochs = 10\n",
        "history = model.fit(\n",
        "    train_ds,\n",
        "    validation_data=val_ds,\n",
        "    epochs=epochs\n",
        ")"
      ],
      "execution_count": 37,
      "outputs": [
        {
          "output_type": "stream",
          "text": [
            "Epoch 1/10\n",
            "200/200 [==============================] - 5s 20ms/step - loss: 1.3820 - sparse_categorical_crossentropy: 1.3820 - val_loss: 1.3685 - val_sparse_categorical_crossentropy: 1.3685\n",
            "Epoch 2/10\n",
            "200/200 [==============================] - 1s 7ms/step - loss: 1.3603 - sparse_categorical_crossentropy: 1.3603 - val_loss: 1.3347 - val_sparse_categorical_crossentropy: 1.3347\n",
            "Epoch 3/10\n",
            "200/200 [==============================] - 1s 7ms/step - loss: 1.3205 - sparse_categorical_crossentropy: 1.3205 - val_loss: 1.2817 - val_sparse_categorical_crossentropy: 1.2817\n",
            "Epoch 4/10\n",
            "200/200 [==============================] - 1s 7ms/step - loss: 1.2604 - sparse_categorical_crossentropy: 1.2604 - val_loss: 1.2139 - val_sparse_categorical_crossentropy: 1.2139\n",
            "Epoch 5/10\n",
            "200/200 [==============================] - 1s 7ms/step - loss: 1.1872 - sparse_categorical_crossentropy: 1.1872 - val_loss: 1.1395 - val_sparse_categorical_crossentropy: 1.1395\n",
            "Epoch 6/10\n",
            "200/200 [==============================] - 1s 7ms/step - loss: 1.1111 - sparse_categorical_crossentropy: 1.1111 - val_loss: 1.0652 - val_sparse_categorical_crossentropy: 1.0652\n",
            "Epoch 7/10\n",
            "200/200 [==============================] - 1s 7ms/step - loss: 1.0353 - sparse_categorical_crossentropy: 1.0353 - val_loss: 0.9967 - val_sparse_categorical_crossentropy: 0.9967\n",
            "Epoch 8/10\n",
            "200/200 [==============================] - 1s 7ms/step - loss: 0.9642 - sparse_categorical_crossentropy: 0.9642 - val_loss: 0.9359 - val_sparse_categorical_crossentropy: 0.9359\n",
            "Epoch 9/10\n",
            "200/200 [==============================] - 1s 6ms/step - loss: 0.9029 - sparse_categorical_crossentropy: 0.9029 - val_loss: 0.8826 - val_sparse_categorical_crossentropy: 0.8826\n",
            "Epoch 10/10\n",
            "200/200 [==============================] - 1s 6ms/step - loss: 0.8510 - sparse_categorical_crossentropy: 0.8510 - val_loss: 0.8369 - val_sparse_categorical_crossentropy: 0.8369\n"
          ],
          "name": "stdout"
        }
      ]
    },
    {
      "cell_type": "markdown",
      "metadata": {
        "id": "QpWuESECJx6M"
      },
      "source": [
        "### Evaluate model\n"
      ]
    },
    {
      "cell_type": "code",
      "metadata": {
        "colab": {
          "base_uri": "https://localhost:8080/"
        },
        "id": "2dzZ0mgW7knf",
        "outputId": "664ce5c4-db3c-4252-ae9b-9b605b87d31a"
      },
      "source": [
        "loss, accuracy = model.evaluate(test_ds)\n",
        "\n",
        "print(\"Loss: \", loss)\n",
        "print(\"Accuracy: \", accuracy)"
      ],
      "execution_count": 38,
      "outputs": [
        {
          "output_type": "stream",
          "text": [
            "250/250 [==============================] - 3s 13ms/step - loss: 0.8658 - sparse_categorical_crossentropy: 0.8658\n",
            "Loss:  0.8657680153846741\n",
            "Accuracy:  0.8657680153846741\n"
          ],
          "name": "stdout"
        }
      ]
    },
    {
      "cell_type": "markdown",
      "metadata": {
        "id": "vHn9RkGtKs1D"
      },
      "source": [
        "### Plot of accuracy and loss over time\n",
        "model.fit(): return History object that contains dictionary with everything that during training"
      ]
    },
    {
      "cell_type": "code",
      "metadata": {
        "colab": {
          "base_uri": "https://localhost:8080/"
        },
        "id": "9vq1CuNAKiIK",
        "outputId": "be6838a7-c786-435f-c9a4-9a72a0ce6297"
      },
      "source": [
        "history_dict = history.history\n",
        "history_dict.keys()"
      ],
      "execution_count": 39,
      "outputs": [
        {
          "output_type": "execute_result",
          "data": {
            "text/plain": [
              "dict_keys(['loss', 'sparse_categorical_crossentropy', 'val_loss', 'val_sparse_categorical_crossentropy'])"
            ]
          },
          "metadata": {
            "tags": []
          },
          "execution_count": 39
        }
      ]
    },
    {
      "cell_type": "code",
      "metadata": {
        "colab": {
          "base_uri": "https://localhost:8080/",
          "height": 295
        },
        "id": "B6siUg80Lmee",
        "outputId": "d7ea73f5-ba58-42c6-9763-e81630cf440f"
      },
      "source": [
        "sparse = history_dict['sparse_categorical_crossentropy']\n",
        "val_sparse = history_dict['val_sparse_categorical_crossentropy']\n",
        "loss = history_dict['loss']\n",
        "val_loss = history_dict['val_loss']\n",
        "\n",
        "epochs = range(1, len(sparse)+1)\n",
        "\n",
        "plt.plot(epochs, loss, 'bo', label='Training loss')\n",
        "plt.plot(epochs, val_loss, 'b', label='Validation loss')\n",
        "plt.title('Training and validation loss')\n",
        "plt.xlabel('Epochs')\n",
        "plt.ylabel('Loss')\n",
        "plt.legend()\n",
        "\n",
        "plt.show()"
      ],
      "execution_count": 41,
      "outputs": [
        {
          "output_type": "display_data",
          "data": {
            "image/png": "[encoded data removed]",
            "text/plain": [
              "<Figure size 432x288 with 1 Axes>"
            ]
          },
          "metadata": {
            "tags": [],
            "needs_background": "light"
          }
        }
      ]
    },
    {
      "cell_type": "code",
      "metadata": {
        "colab": {
          "base_uri": "https://localhost:8080/",
          "height": 295
        },
        "id": "6l399S-xMRqg",
        "outputId": "181a77aa-af63-43d0-9373-f4e2c11d9cfb"
      },
      "source": [
        "plt.plot(epochs, sparse, 'bo', label='Training sparse_categorical_crossentropy')\n",
        "plt.plot(epochs, val_sparse, 'b', label='Validation sparse_categorical_crossentropy')\n",
        "plt.title('Training and validation sparse_categorical_crossentropy')\n",
        "plt.xlabel('Epochs')\n",
        "plt.ylabel('sparse_categorical_crossentropy')\n",
        "plt.legend(loc='lower right')\n",
        "\n",
        "plt.show()"
      ],
      "execution_count": 42,
      "outputs": [
        {
          "output_type": "display_data",
          "data": {
            "image/png": "[encoded data removed]",
            "text/plain": [
              "<Figure size 432x288 with 1 Axes>"
            ]
          },
          "metadata": {
            "tags": [],
            "needs_background": "light"
          }
        }
      ]
    },
    {
      "cell_type": "markdown",
      "metadata": {
        "id": "JDfG078fOcHr"
      },
      "source": [
        "### Export model\n",
        "To make model capable of processing raw strings: include TextVectorization layer inside the model. Create a new model using weights trained:"
      ]
    },
    {
      "cell_type": "code",
      "metadata": {
        "colab": {
          "base_uri": "https://localhost:8080/"
        },
        "id": "lCrulu5LNAOe",
        "outputId": "e51805b2-a0ac-4ae8-8f6e-9b7c3927b8ab"
      },
      "source": [
        "export_model = tf.keras.Sequential([\n",
        "  vectorize_layer,\n",
        "  model,\n",
        "  layers.Activation('sigmoid')\n",
        "])\n",
        "\n",
        "export_model.compile(\n",
        "    loss=losses.SparseCategoricalCrossentropy(from_logits=True),\n",
        "    optimizer='adam',\n",
        "    metrics=tf.metrics.SparseCategoricalCrossentropy(name=\"sparse_categorical_crossentropy\",dtype=None,from_logits=True)\n",
        ")\n",
        "\n",
        "# test with raw_test_ds, which yields raw strings\n",
        "loss, accuracy = export_model.evaluate(raw_test_ds)\n",
        "print(accuracy)"
      ],
      "execution_count": 44,
      "outputs": [
        {
          "output_type": "stream",
          "text": [
            "250/250 [==============================] - 4s 14ms/step - loss: 0.8610 - sparse_categorical_crossentropy: 0.8610\n",
            "0.865767776966095\n"
          ],
          "name": "stdout"
        }
      ]
    },
    {
      "cell_type": "markdown",
      "metadata": {
        "id": "TKbEE2hxPTx1"
      },
      "source": [
        "### Inference on new data\n",
        "Call model.predict()"
      ]
    },
    {
      "cell_type": "code",
      "metadata": {
        "colab": {
          "base_uri": "https://localhost:8080/"
        },
        "id": "fSuVAKlVPPUZ",
        "outputId": "70733903-c7ad-4244-af34-3cbebe3bf7af"
      },
      "source": [
        "examples = [\n",
        "  \"How can sort a dictionary by value in Python\",\n",
        "]\n",
        "\n",
        "export_model.predict(examples)"
      ],
      "execution_count": 45,
      "outputs": [
        {
          "output_type": "execute_result",
          "data": {
            "text/plain": [
              "array([[0.51735884, 0.4578587 , 0.5420847 , 0.4855471 ]], dtype=float32)"
            ]
          },
          "metadata": {
            "tags": []
          },
          "execution_count": 45
        }
      ]
    },
    {
      "cell_type": "markdown",
      "metadata": {
        "id": "aq-VDPsvP2MY"
      },
      "source": [
        "Including text preprocessing logic - enables to export model for production + reduces potential for train/test skew.\n",
        "\n",
        "Outside mode --> allows asynchronous CPU processing + buffering when training on GPU\n",
        "Include TextVectorization when ready to deploy."
      ]
    },
    {
      "cell_type": "code",
      "metadata": {
        "id": "LKkA7o2SPyrd"
      },
      "source": [
        ""
      ],
      "execution_count": null,
      "outputs": []
    }
  ]
}